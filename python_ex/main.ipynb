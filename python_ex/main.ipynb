{
 "cells": [
  {
   "cell_type": "code",
   "execution_count": 112,
   "id": "d11c02ba",
   "metadata": {},
   "outputs": [],
   "source": [
    "import math\n",
    "words = []\n",
    "count1 = []\n",
    "count2 = []\n",
    "string =''"
   ]
  },
  {
   "cell_type": "code",
   "execution_count": 113,
   "id": "06067082",
   "metadata": {},
   "outputs": [],
   "source": [
    "with open('music.txt') as f:\n",
    "    string = f.read()\n",
    "    \n",
    "f.close()"
   ]
  },
  {
   "cell_type": "code",
   "execution_count": 114,
   "id": "7d03325f",
   "metadata": {},
   "outputs": [],
   "source": [
    "words = string.split()"
   ]
  },
  {
   "cell_type": "code",
   "execution_count": 115,
   "id": "3422ffdf",
   "metadata": {},
   "outputs": [],
   "source": [
    "for x in words:\n",
    "    \n",
    "    for y in words:\n",
    "        \n",
    "        if x==y:\n",
    "            \n",
    "            if not count1:\n",
    "                count1.append(x)\n",
    "                count2.append(1)\n",
    "                \n",
    "            else:\n",
    "                same=-1\n",
    "                index = 0\n",
    "                \n",
    "                while index < len(count1):\n",
    "                    if count1[index]==x:\n",
    "                        same=index\n",
    "                        break\n",
    "                    index += 1\n",
    "\n",
    "                if same==-1:\n",
    "                    count1.append(x)\n",
    "                    count2.append(1)\n",
    "                    \n",
    "                else:\n",
    "                    count2[same]=count2[same]+1"
   ]
  },
  {
   "cell_type": "code",
   "execution_count": 116,
   "id": "6884a622",
   "metadata": {},
   "outputs": [],
   "source": [
    "index2 = 0\n",
    "while index2 < len(count2):\n",
    "    count2[index2]=math.sqrt( count2[index2] )\n",
    "    index2 += 1"
   ]
  },
  {
   "cell_type": "code",
   "execution_count": 117,
   "id": "36145db5",
   "metadata": {
    "scrolled": false
   },
   "outputs": [
    {
     "name": "stdout",
     "output_type": "stream",
     "text": [
      "['Şimdi', 'uzaklardasın', 'Gönül', 'hicranla', 'doldu', 'Hiç', 'ayrılamam', 'derken', 'Kavuşmak', 'hayal', 'oldu', 'Sevda', 'bahçelerinin', 'Çiçekleri', 'hep', 'soldu']\n",
      "[2.0, 2.0, 2.0, 2.0, 2.0, 4.0, 4.0, 4.0, 4.0, 4.0, 4.0, 1.0, 1.0, 2.0, 2.0, 2.0]\n"
     ]
    }
   ],
   "source": [
    "print(count1)\n",
    "print(count2)"
   ]
  },
  {
   "cell_type": "code",
   "execution_count": 118,
   "id": "e1e2af90",
   "metadata": {},
   "outputs": [],
   "source": [
    "for i in range(len(count2)):\n",
    "    for j in range(i+1, len(count2)):\n",
    "        if count2[ i ] < count2[ j ]:\n",
    "            count2[j],count2[i]=count2[i],count2[j]\n",
    "            count1[j],count1[i]=count1[i],count1[j]"
   ]
  },
  {
   "cell_type": "code",
   "execution_count": 119,
   "id": "167b5efb",
   "metadata": {
    "scrolled": true
   },
   "outputs": [
    {
     "name": "stdout",
     "output_type": "stream",
     "text": [
      "['Hiç', 'ayrılamam', 'derken', 'Kavuşmak', 'hayal', 'oldu', 'uzaklardasın', 'Gönül', 'hicranla', 'doldu', 'Şimdi', 'Çiçekleri', 'hep', 'soldu', 'bahçelerinin', 'Sevda']\n",
      "[4.0, 4.0, 4.0, 4.0, 4.0, 4.0, 2.0, 2.0, 2.0, 2.0, 2.0, 2.0, 2.0, 2.0, 1.0, 1.0]\n"
     ]
    }
   ],
   "source": [
    "print(count1)\n",
    "print(count2)"
   ]
  },
  {
   "cell_type": "code",
   "execution_count": null,
   "id": "1bcb53ad",
   "metadata": {},
   "outputs": [],
   "source": []
  }
 ],
 "metadata": {
  "kernelspec": {
   "display_name": "Python 3",
   "language": "python",
   "name": "python3"
  },
  "language_info": {
   "codemirror_mode": {
    "name": "ipython",
    "version": 3
   },
   "file_extension": ".py",
   "mimetype": "text/x-python",
   "name": "python",
   "nbconvert_exporter": "python",
   "pygments_lexer": "ipython3",
   "version": "3.8.8"
  }
 },
 "nbformat": 4,
 "nbformat_minor": 5
}
